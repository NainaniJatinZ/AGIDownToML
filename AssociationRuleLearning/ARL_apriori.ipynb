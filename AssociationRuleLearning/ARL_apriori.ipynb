{
  "nbformat": 4,
  "nbformat_minor": 0,
  "metadata": {
    "colab": {
      "name": "ARL_apriori.ipynb",
      "provenance": [],
      "authorship_tag": "ABX9TyOdMLYjIzeL7Hcrb5i9U6Gq",
      "include_colab_link": true
    },
    "kernelspec": {
      "name": "python3",
      "display_name": "Python 3"
    },
    "language_info": {
      "name": "python"
    }
  },
  "cells": [
    {
      "cell_type": "markdown",
      "metadata": {
        "id": "view-in-github",
        "colab_type": "text"
      },
      "source": [
        "<a href=\"https://colab.research.google.com/github/NainaniJatinZ/MachineLearningRepo/blob/main/AssociationRuleLearning/ARL_apriori.ipynb\" target=\"_parent\"><img src=\"https://colab.research.google.com/assets/colab-badge.svg\" alt=\"Open In Colab\"/></a>"
      ]
    },
    {
      "cell_type": "markdown",
      "metadata": {
        "id": "SoAYXqB6_o8s"
      },
      "source": [
        "# Association Rule Learning: Apriori\n"
      ]
    },
    {
      "cell_type": "markdown",
      "metadata": {
        "id": "qbSzhrxfokq1"
      },
      "source": [
        "- Association rules help uncover all such relationships between items from huge databases.\n",
        "- Rules do not extract an individual’s preference, rather find relationships between set of elements of every distinct transaction. This is what makes them different from collaborative filtering.\n",
        "- eg. --> List of items with unique transaction IDs (from all users) are studied as one group --> placement of items in aisles\n",
        "--> collaborative filtering ties back all transactions corresponding to a user ID to identify similarity between users’ preferences --> recommendation"
      ]
    },
    {
      "cell_type": "markdown",
      "metadata": {
        "id": "duEhQZhECyuw"
      },
      "source": [
        "- Association Rule: Ex. {X → Y} is a representation of finding Y on the basket which has X on it\n",
        "- Itemset: Ex. {X,Y} is a representation of the list of all items which form the association rule\n",
        "- Support: Fraction of transactions containing the itemset\n",
        "- Confidence: Probability of occurrence of {Y} given {X} is present\n",
        "- Lift: Ratio of confidence to baseline probability of occurrence of {Y}"
      ]
    },
    {
      "cell_type": "markdown",
      "metadata": {
        "id": "ytXhexkXDTCR"
      },
      "source": [
        "Rule: ({a,b} -> {c,d})\n",
        "then {a,b} is Antecent \n",
        "and {c,d} is Consequent "
      ]
    },
    {
      "cell_type": "markdown",
      "metadata": {
        "id": "hVc87xJTDzP6"
      },
      "source": [
        "![picture](https://miro.medium.com/max/3000/1*bqdq-z4Ec7Uac3TT3H_1Gg.png)\n",
        "\n",
        "![picture](https://miro.medium.com/max/3000/1*E3mNKHcudWzHySGMvo_vPg.png)\n",
        "\n",
        "![picture](https://miro.medium.com/max/3000/1*Rg429lteTXRKdYgCiHmLVw.png)"
      ]
    },
    {
      "cell_type": "markdown",
      "metadata": {
        "id": "0RO2eJer-8aO"
      },
      "source": [
        "# Step 1: Generating itemsets from a list of items\n",
        "\n",
        "--> itemsets for which support value (fraction of transactions containing the itemset) is above a minimum threshold — minsup\n",
        "\n",
        "--> itemsets with low support means that we don't have enough data on those to form a rule.\n",
        "\n",
        "## Apriori Principle \n",
        "\n",
        "--> All subsets of a frequent itemset must also be frequent\n",
        "\n",
        "--> So if support value of {Bread, Egg, Vegetables} is above minsup, then we can be assured that support value of {Bread, Egg}  is above minsup too. \n",
        "\n",
        "\n",
        "--> This is called the **anti-monotone property** of support where if we drop out an item from an itemset, support value of new itemset generated will either be the same or will increase.\n",
        "\n",
        "--> This principle makes it easy to prune all supersets of an itemset that does not satify minsup.\n",
        "\n",
        "## Apriori Algorithm\n",
        "\n",
        "refer: https://annalyzin.files.wordpress.com/2016/04/association-rules-apriori-tutorial-explanation.gif\n",
        "\n",
        "Generate all frequent itemsets (support ≥ minsup) having only one item. Next, generate itemsets of length 2 as all possible combinations of above itemsets. Then, prune the ones for which support value fell below minsup\n"
      ]
    },
    {
      "cell_type": "markdown",
      "metadata": {
        "id": "JS_ks_MGBH93"
      },
      "source": [
        "# Step 2: Generating all possible rules from frequent itemsets \n",
        "\n",
        "--> forming candidate rules --> {a,b,c,d} has candidates such as (a,b,c->d); (a,c->b,d); (b->a,c,d) and so on\n",
        "\n",
        "--> Aim is to identify rules that fall above a minimum confidence level (minconf).\n",
        "\n",
        "-->  Just like the anti-monotone property of support, confidence of rules generated from the same itemset also follows an anti-monotone property.\n",
        "\n",
        "--> So this means that confidence of (a,b,c→ d) ≥ (b,c → a,d) ≥ (c → a,b,d). To remind, confidence for {X → Y} = support of {X,Y}/support of {X}\n",
        "\n"
      ]
    },
    {
      "cell_type": "markdown",
      "metadata": {
        "id": "KVQcBrXhCUDS"
      },
      "source": [
        "### Pruning using the above mentioned property of confidence\n",
        "\n",
        "We start with a frequent itemset {a,b,c,d} and start forming rules with just one consequent. Remove the rules failing to satisfy the minconf condition. Now, start forming rules using a combination of consequents from the remaining ones. Keep repeating until only one item is left on antecedent. This process has to be done for all frequent itemsets.\n"
      ]
    },
    {
      "cell_type": "markdown",
      "metadata": {
        "id": "fBwQCogUEL9d"
      },
      "source": [
        "![picture](https://miro.medium.com/max/625/1*oHvr5DH3YJS2TEmajxCkHw.png)"
      ]
    },
    {
      "cell_type": "markdown",
      "metadata": {
        "id": "2Xi5FztTEZkA"
      },
      "source": [
        "# Step 3: Searching for highest values of Lift to make conclusions\n",
        "\n",
        "--> with the rules that satisfy both minsup and minconf"
      ]
    },
    {
      "cell_type": "markdown",
      "metadata": {
        "id": "PUw11572FLG8"
      },
      "source": [
        "## Few more terms:\n",
        "\n",
        "Maximal frequent itemset: It is a frequent itemset for which none of the immediate supersets are frequent. This is like a frequent itemset X to which no item y can be added such that {X,y} still remains above minsup threshold.\n",
        "\n",
        "--> Most compact form of frequent itemset representation\n",
        "\n",
        "--> All the frequent itemsets can be derived as the subsets of maximal frequent itemsets. However, information on support of the subsets is lost. If this value is required, closed frequent itemset is another way to represent all the frequent itemsets.\n",
        "\n",
        "Closed frequent itemset: It is a frequent itemset for which there exists no superset which has the same support as the itemset. Consider an itemset X. If ALL occurrences of X are accompanied by occurrence of Y, then X is NOT a closed set.\n",
        "\n",
        "--> help in removing some redundant itemsets while not losing information about the support values.\n",
        "\n"
      ]
    },
    {
      "cell_type": "markdown",
      "metadata": {
        "id": "_ZXEAjW_FN6B"
      },
      "source": [
        "# References:\n",
        "\n",
        "- https://www.analyticsvidhya.com/blog/2017/08/mining-frequent-items-using-apriori-algorithm/\n",
        "\n",
        "- https://towardsdatascience.com/association-rules-2-aa9a77241654\n",
        "\n",
        "- ML A-Z course on Udemy: https://www.udemy.com/share/101Wci2@Pm1KbFteSFcJd0JKOEtOfQ==/\n"
      ]
    },
    {
      "cell_type": "markdown",
      "metadata": {
        "id": "oF6zIDbFGXME"
      },
      "source": [
        "# Code"
      ]
    },
    {
      "cell_type": "markdown",
      "metadata": {
        "id": "PxVLvPy-HmTw"
      },
      "source": [
        "Link to dataset: https://drive.google.com/file/d/16wlKvgyHvsXU96rLd-j2WHrN52thrp7-/view?usp=sharing"
      ]
    },
    {
      "cell_type": "code",
      "metadata": {
        "colab": {
          "base_uri": "https://localhost:8080/"
        },
        "id": "FUMGxZg8GcHp",
        "outputId": "0a5991ba-e83c-46a4-e7e5-cb16e283b083"
      },
      "source": [
        "from google.colab import drive\n",
        "drive.mount(\"/content/drive\")"
      ],
      "execution_count": 3,
      "outputs": [
        {
          "output_type": "stream",
          "text": [
            "Drive already mounted at /content/drive; to attempt to forcibly remount, call drive.mount(\"/content/drive\", force_remount=True).\n"
          ],
          "name": "stdout"
        }
      ]
    },
    {
      "cell_type": "code",
      "metadata": {
        "colab": {
          "base_uri": "https://localhost:8080/"
        },
        "id": "RPSjx5aeKJJ4",
        "outputId": "98849e2f-809b-42a3-a7f3-2299f4f68a5e"
      },
      "source": [
        "!pip install apyori"
      ],
      "execution_count": 4,
      "outputs": [
        {
          "output_type": "stream",
          "text": [
            "Collecting apyori\n",
            "  Downloading https://files.pythonhosted.org/packages/5e/62/5ffde5c473ea4b033490617ec5caa80d59804875ad3c3c57c0976533a21a/apyori-1.1.2.tar.gz\n",
            "Building wheels for collected packages: apyori\n",
            "  Building wheel for apyori (setup.py) ... \u001b[?25l\u001b[?25hdone\n",
            "  Created wheel for apyori: filename=apyori-1.1.2-cp37-none-any.whl size=5975 sha256=4be1cb430eb1afc68841a044776ef86cdd9b3e2c4c46e67cdd4958b06b52a1a8\n",
            "  Stored in directory: /root/.cache/pip/wheels/5d/92/bb/474bbadbc8c0062b9eb168f69982a0443263f8ab1711a8cad0\n",
            "Successfully built apyori\n",
            "Installing collected packages: apyori\n",
            "Successfully installed apyori-1.1.2\n"
          ],
          "name": "stdout"
        }
      ]
    },
    {
      "cell_type": "code",
      "metadata": {
        "id": "22SjaWRHINcR"
      },
      "source": [
        "# importing libraries \n",
        "import numpy as np\n",
        "import matplotlib.pyplot as plt\n",
        "import pandas as pd"
      ],
      "execution_count": 6,
      "outputs": []
    },
    {
      "cell_type": "markdown",
      "metadata": {
        "id": "sh2c7hINLACW"
      },
      "source": [
        "## Data Preprocessing "
      ]
    },
    {
      "cell_type": "code",
      "metadata": {
        "id": "k9v9XjnmJ1gE"
      },
      "source": [
        "#loading the dataset (no header)\n",
        "dataset = pd.read_csv('Market_Basket_Optimisation.csv', header = None)\n",
        "\n",
        "#creating a list of transactions from dataframe\n",
        "transactions = []\n",
        "#print(len(dataset.index))\n",
        "# print(len(dataset.columns))\n",
        "\n",
        "# all elements in list for apyori must be str\n",
        "for i in range(0, len(dataset.index)):\n",
        "  transactions.append([str(dataset.values[i,j]) for j in range(0, len(dataset.columns))])\n",
        "\n"
      ],
      "execution_count": 16,
      "outputs": []
    },
    {
      "cell_type": "markdown",
      "metadata": {
        "id": "dPERpdc5um3l"
      },
      "source": [
        "## Training model on Dataset"
      ]
    },
    {
      "cell_type": "code",
      "metadata": {
        "id": "Os57DzaUNwr5"
      },
      "source": [
        "# assumung we wanted at least 3 transactions per week, minsup = 3*7/7501\n",
        "# rule of thumb is to start with 0.8 and keep dividing by 2 till you get desirable number of rules \n",
        "# lift less than 3 aren't that relevant in most cases\n",
        "# min len and max len = 2 --> (product A-> product B) --> depends on probelme\n",
        "\n",
        "from apyori import apriori\n",
        "rules = apriori(transactions = transactions, min_support = 0.0027, min_confidence = 0.2, min_lift = 3, min_length = 2, max_length = 2)"
      ],
      "execution_count": 17,
      "outputs": []
    },
    {
      "cell_type": "markdown",
      "metadata": {
        "id": "-Dx2Iez3v8Mh"
      },
      "source": [
        "## Visualising Results "
      ]
    },
    {
      "cell_type": "markdown",
      "metadata": {
        "id": "TD764tjvwBcB"
      },
      "source": [
        "## Direct results"
      ]
    },
    {
      "cell_type": "code",
      "metadata": {
        "colab": {
          "base_uri": "https://localhost:8080/"
        },
        "id": "jeKB90gRwFXF",
        "outputId": "9705627b-e0a3-47c6-c9e9-1c86a73cbb8e"
      },
      "source": [
        "ap_results = list(rules)\n",
        "ap_results "
      ],
      "execution_count": 18,
      "outputs": [
        {
          "output_type": "execute_result",
          "data": {
            "text/plain": [
              "[RelationRecord(items=frozenset({'chicken', 'extra dark chocolate'}), support=0.0027996267164378083, ordered_statistics=[OrderedStatistic(items_base=frozenset({'extra dark chocolate'}), items_add=frozenset({'chicken'}), confidence=0.23333333333333334, lift=3.8894074074074076)]),\n",
              " RelationRecord(items=frozenset({'light cream', 'chicken'}), support=0.004532728969470737, ordered_statistics=[OrderedStatistic(items_base=frozenset({'light cream'}), items_add=frozenset({'chicken'}), confidence=0.29059829059829057, lift=4.84395061728395)]),\n",
              " RelationRecord(items=frozenset({'mushroom cream sauce', 'escalope'}), support=0.005732568990801226, ordered_statistics=[OrderedStatistic(items_base=frozenset({'mushroom cream sauce'}), items_add=frozenset({'escalope'}), confidence=0.3006993006993007, lift=3.790832696715049)]),\n",
              " RelationRecord(items=frozenset({'escalope', 'pasta'}), support=0.005865884548726837, ordered_statistics=[OrderedStatistic(items_base=frozenset({'pasta'}), items_add=frozenset({'escalope'}), confidence=0.3728813559322034, lift=4.700811850163794)]),\n",
              " RelationRecord(items=frozenset({'honey', 'fromage blanc'}), support=0.003332888948140248, ordered_statistics=[OrderedStatistic(items_base=frozenset({'fromage blanc'}), items_add=frozenset({'honey'}), confidence=0.2450980392156863, lift=5.164270764485569)]),\n",
              " RelationRecord(items=frozenset({'ground beef', 'herb & pepper'}), support=0.015997866951073192, ordered_statistics=[OrderedStatistic(items_base=frozenset({'herb & pepper'}), items_add=frozenset({'ground beef'}), confidence=0.3234501347708895, lift=3.2919938411349285)]),\n",
              " RelationRecord(items=frozenset({'ground beef', 'tomato sauce'}), support=0.005332622317024397, ordered_statistics=[OrderedStatistic(items_base=frozenset({'tomato sauce'}), items_add=frozenset({'ground beef'}), confidence=0.3773584905660377, lift=3.840659481324083)]),\n",
              " RelationRecord(items=frozenset({'light cream', 'olive oil'}), support=0.003199573390214638, ordered_statistics=[OrderedStatistic(items_base=frozenset({'light cream'}), items_add=frozenset({'olive oil'}), confidence=0.20512820512820515, lift=3.1147098515519573)]),\n",
              " RelationRecord(items=frozenset({'whole wheat pasta', 'olive oil'}), support=0.007998933475536596, ordered_statistics=[OrderedStatistic(items_base=frozenset({'whole wheat pasta'}), items_add=frozenset({'olive oil'}), confidence=0.2714932126696833, lift=4.122410097642296)]),\n",
              " RelationRecord(items=frozenset({'shrimp', 'pasta'}), support=0.005065991201173177, ordered_statistics=[OrderedStatistic(items_base=frozenset({'pasta'}), items_add=frozenset({'shrimp'}), confidence=0.3220338983050847, lift=4.506672147735896)])]"
            ]
          },
          "metadata": {
            "tags": []
          },
          "execution_count": 18
        }
      ]
    },
    {
      "cell_type": "markdown",
      "metadata": {
        "id": "o3PHYblDwwsu"
      },
      "source": [
        "## Putting results in a pd frame"
      ]
    },
    {
      "cell_type": "code",
      "metadata": {
        "id": "jK6vYQoVwKvq"
      },
      "source": [
        "def inspect(results):\n",
        "    lhs         = [tuple(result[2][0][0])[0] for result in results]\n",
        "    rhs         = [tuple(result[2][0][1])[0] for result in results]\n",
        "    supports    = [result[1] for result in results]\n",
        "    confidences = [result[2][0][2] for result in results]\n",
        "    lifts       = [result[2][0][3] for result in results]\n",
        "    return list(zip(lhs, rhs, supports, confidences, lifts))\n",
        "resultsinDataFrame = pd.DataFrame(inspect(ap_results), columns = ['Left Hand Side', 'Right Hand Side', 'Support', 'Confidence', 'Lift'])"
      ],
      "execution_count": 20,
      "outputs": []
    },
    {
      "cell_type": "code",
      "metadata": {
        "colab": {
          "base_uri": "https://localhost:8080/",
          "height": 357
        },
        "id": "cWB4mcZzxCtZ",
        "outputId": "b598eb6e-4831-4f41-f613-e4ae3f8b6a96"
      },
      "source": [
        "resultsinDataFrame\n"
      ],
      "execution_count": 21,
      "outputs": [
        {
          "output_type": "execute_result",
          "data": {
            "text/html": [
              "<div>\n",
              "<style scoped>\n",
              "    .dataframe tbody tr th:only-of-type {\n",
              "        vertical-align: middle;\n",
              "    }\n",
              "\n",
              "    .dataframe tbody tr th {\n",
              "        vertical-align: top;\n",
              "    }\n",
              "\n",
              "    .dataframe thead th {\n",
              "        text-align: right;\n",
              "    }\n",
              "</style>\n",
              "<table border=\"1\" class=\"dataframe\">\n",
              "  <thead>\n",
              "    <tr style=\"text-align: right;\">\n",
              "      <th></th>\n",
              "      <th>Left Hand Side</th>\n",
              "      <th>Right Hand Side</th>\n",
              "      <th>Support</th>\n",
              "      <th>Confidence</th>\n",
              "      <th>Lift</th>\n",
              "    </tr>\n",
              "  </thead>\n",
              "  <tbody>\n",
              "    <tr>\n",
              "      <th>0</th>\n",
              "      <td>extra dark chocolate</td>\n",
              "      <td>chicken</td>\n",
              "      <td>0.002800</td>\n",
              "      <td>0.233333</td>\n",
              "      <td>3.889407</td>\n",
              "    </tr>\n",
              "    <tr>\n",
              "      <th>1</th>\n",
              "      <td>light cream</td>\n",
              "      <td>chicken</td>\n",
              "      <td>0.004533</td>\n",
              "      <td>0.290598</td>\n",
              "      <td>4.843951</td>\n",
              "    </tr>\n",
              "    <tr>\n",
              "      <th>2</th>\n",
              "      <td>mushroom cream sauce</td>\n",
              "      <td>escalope</td>\n",
              "      <td>0.005733</td>\n",
              "      <td>0.300699</td>\n",
              "      <td>3.790833</td>\n",
              "    </tr>\n",
              "    <tr>\n",
              "      <th>3</th>\n",
              "      <td>pasta</td>\n",
              "      <td>escalope</td>\n",
              "      <td>0.005866</td>\n",
              "      <td>0.372881</td>\n",
              "      <td>4.700812</td>\n",
              "    </tr>\n",
              "    <tr>\n",
              "      <th>4</th>\n",
              "      <td>fromage blanc</td>\n",
              "      <td>honey</td>\n",
              "      <td>0.003333</td>\n",
              "      <td>0.245098</td>\n",
              "      <td>5.164271</td>\n",
              "    </tr>\n",
              "    <tr>\n",
              "      <th>5</th>\n",
              "      <td>herb &amp; pepper</td>\n",
              "      <td>ground beef</td>\n",
              "      <td>0.015998</td>\n",
              "      <td>0.323450</td>\n",
              "      <td>3.291994</td>\n",
              "    </tr>\n",
              "    <tr>\n",
              "      <th>6</th>\n",
              "      <td>tomato sauce</td>\n",
              "      <td>ground beef</td>\n",
              "      <td>0.005333</td>\n",
              "      <td>0.377358</td>\n",
              "      <td>3.840659</td>\n",
              "    </tr>\n",
              "    <tr>\n",
              "      <th>7</th>\n",
              "      <td>light cream</td>\n",
              "      <td>olive oil</td>\n",
              "      <td>0.003200</td>\n",
              "      <td>0.205128</td>\n",
              "      <td>3.114710</td>\n",
              "    </tr>\n",
              "    <tr>\n",
              "      <th>8</th>\n",
              "      <td>whole wheat pasta</td>\n",
              "      <td>olive oil</td>\n",
              "      <td>0.007999</td>\n",
              "      <td>0.271493</td>\n",
              "      <td>4.122410</td>\n",
              "    </tr>\n",
              "    <tr>\n",
              "      <th>9</th>\n",
              "      <td>pasta</td>\n",
              "      <td>shrimp</td>\n",
              "      <td>0.005066</td>\n",
              "      <td>0.322034</td>\n",
              "      <td>4.506672</td>\n",
              "    </tr>\n",
              "  </tbody>\n",
              "</table>\n",
              "</div>"
            ],
            "text/plain": [
              "         Left Hand Side Right Hand Side   Support  Confidence      Lift\n",
              "0  extra dark chocolate         chicken  0.002800    0.233333  3.889407\n",
              "1           light cream         chicken  0.004533    0.290598  4.843951\n",
              "2  mushroom cream sauce        escalope  0.005733    0.300699  3.790833\n",
              "3                 pasta        escalope  0.005866    0.372881  4.700812\n",
              "4         fromage blanc           honey  0.003333    0.245098  5.164271\n",
              "5         herb & pepper     ground beef  0.015998    0.323450  3.291994\n",
              "6          tomato sauce     ground beef  0.005333    0.377358  3.840659\n",
              "7           light cream       olive oil  0.003200    0.205128  3.114710\n",
              "8     whole wheat pasta       olive oil  0.007999    0.271493  4.122410\n",
              "9                 pasta          shrimp  0.005066    0.322034  4.506672"
            ]
          },
          "metadata": {
            "tags": []
          },
          "execution_count": 21
        }
      ]
    },
    {
      "cell_type": "markdown",
      "metadata": {
        "id": "63_Fn53Fxke-"
      },
      "source": [
        "## Sorted Final Results"
      ]
    },
    {
      "cell_type": "code",
      "metadata": {
        "colab": {
          "base_uri": "https://localhost:8080/",
          "height": 357
        },
        "id": "cxRd90t5xJrh",
        "outputId": "703a4322-2234-4e42-fc13-d683ced01eee"
      },
      "source": [
        "\n",
        "resultsinDataFrame.nlargest(10, \"Lift\")"
      ],
      "execution_count": 22,
      "outputs": [
        {
          "output_type": "execute_result",
          "data": {
            "text/html": [
              "<div>\n",
              "<style scoped>\n",
              "    .dataframe tbody tr th:only-of-type {\n",
              "        vertical-align: middle;\n",
              "    }\n",
              "\n",
              "    .dataframe tbody tr th {\n",
              "        vertical-align: top;\n",
              "    }\n",
              "\n",
              "    .dataframe thead th {\n",
              "        text-align: right;\n",
              "    }\n",
              "</style>\n",
              "<table border=\"1\" class=\"dataframe\">\n",
              "  <thead>\n",
              "    <tr style=\"text-align: right;\">\n",
              "      <th></th>\n",
              "      <th>Left Hand Side</th>\n",
              "      <th>Right Hand Side</th>\n",
              "      <th>Support</th>\n",
              "      <th>Confidence</th>\n",
              "      <th>Lift</th>\n",
              "    </tr>\n",
              "  </thead>\n",
              "  <tbody>\n",
              "    <tr>\n",
              "      <th>4</th>\n",
              "      <td>fromage blanc</td>\n",
              "      <td>honey</td>\n",
              "      <td>0.003333</td>\n",
              "      <td>0.245098</td>\n",
              "      <td>5.164271</td>\n",
              "    </tr>\n",
              "    <tr>\n",
              "      <th>1</th>\n",
              "      <td>light cream</td>\n",
              "      <td>chicken</td>\n",
              "      <td>0.004533</td>\n",
              "      <td>0.290598</td>\n",
              "      <td>4.843951</td>\n",
              "    </tr>\n",
              "    <tr>\n",
              "      <th>3</th>\n",
              "      <td>pasta</td>\n",
              "      <td>escalope</td>\n",
              "      <td>0.005866</td>\n",
              "      <td>0.372881</td>\n",
              "      <td>4.700812</td>\n",
              "    </tr>\n",
              "    <tr>\n",
              "      <th>9</th>\n",
              "      <td>pasta</td>\n",
              "      <td>shrimp</td>\n",
              "      <td>0.005066</td>\n",
              "      <td>0.322034</td>\n",
              "      <td>4.506672</td>\n",
              "    </tr>\n",
              "    <tr>\n",
              "      <th>8</th>\n",
              "      <td>whole wheat pasta</td>\n",
              "      <td>olive oil</td>\n",
              "      <td>0.007999</td>\n",
              "      <td>0.271493</td>\n",
              "      <td>4.122410</td>\n",
              "    </tr>\n",
              "    <tr>\n",
              "      <th>0</th>\n",
              "      <td>extra dark chocolate</td>\n",
              "      <td>chicken</td>\n",
              "      <td>0.002800</td>\n",
              "      <td>0.233333</td>\n",
              "      <td>3.889407</td>\n",
              "    </tr>\n",
              "    <tr>\n",
              "      <th>6</th>\n",
              "      <td>tomato sauce</td>\n",
              "      <td>ground beef</td>\n",
              "      <td>0.005333</td>\n",
              "      <td>0.377358</td>\n",
              "      <td>3.840659</td>\n",
              "    </tr>\n",
              "    <tr>\n",
              "      <th>2</th>\n",
              "      <td>mushroom cream sauce</td>\n",
              "      <td>escalope</td>\n",
              "      <td>0.005733</td>\n",
              "      <td>0.300699</td>\n",
              "      <td>3.790833</td>\n",
              "    </tr>\n",
              "    <tr>\n",
              "      <th>5</th>\n",
              "      <td>herb &amp; pepper</td>\n",
              "      <td>ground beef</td>\n",
              "      <td>0.015998</td>\n",
              "      <td>0.323450</td>\n",
              "      <td>3.291994</td>\n",
              "    </tr>\n",
              "    <tr>\n",
              "      <th>7</th>\n",
              "      <td>light cream</td>\n",
              "      <td>olive oil</td>\n",
              "      <td>0.003200</td>\n",
              "      <td>0.205128</td>\n",
              "      <td>3.114710</td>\n",
              "    </tr>\n",
              "  </tbody>\n",
              "</table>\n",
              "</div>"
            ],
            "text/plain": [
              "         Left Hand Side Right Hand Side   Support  Confidence      Lift\n",
              "4         fromage blanc           honey  0.003333    0.245098  5.164271\n",
              "1           light cream         chicken  0.004533    0.290598  4.843951\n",
              "3                 pasta        escalope  0.005866    0.372881  4.700812\n",
              "9                 pasta          shrimp  0.005066    0.322034  4.506672\n",
              "8     whole wheat pasta       olive oil  0.007999    0.271493  4.122410\n",
              "0  extra dark chocolate         chicken  0.002800    0.233333  3.889407\n",
              "6          tomato sauce     ground beef  0.005333    0.377358  3.840659\n",
              "2  mushroom cream sauce        escalope  0.005733    0.300699  3.790833\n",
              "5         herb & pepper     ground beef  0.015998    0.323450  3.291994\n",
              "7           light cream       olive oil  0.003200    0.205128  3.114710"
            ]
          },
          "metadata": {
            "tags": []
          },
          "execution_count": 22
        }
      ]
    }
  ]
}