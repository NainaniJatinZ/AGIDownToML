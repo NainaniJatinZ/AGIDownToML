{
  "nbformat": 4,
  "nbformat_minor": 0,
  "metadata": {
    "colab": {
      "name": "ARL_eclat.ipynb",
      "provenance": [],
      "authorship_tag": "ABX9TyPugDudOPpiF58Xo0TZwZkI",
      "include_colab_link": true
    },
    "kernelspec": {
      "name": "python3",
      "display_name": "Python 3"
    },
    "language_info": {
      "name": "python"
    }
  },
  "cells": [
    {
      "cell_type": "markdown",
      "metadata": {
        "id": "view-in-github",
        "colab_type": "text"
      },
      "source": [
        "<a href=\"https://colab.research.google.com/github/NainaniJatinZ/MachineLearningRepo/blob/main/AssociationRuleLearning/ARL_eclat.ipynb\" target=\"_parent\"><img src=\"https://colab.research.google.com/assets/colab-badge.svg\" alt=\"Open In Colab\"/></a>"
      ]
    },
    {
      "cell_type": "markdown",
      "metadata": {
        "id": "peNRk35_yocV"
      },
      "source": [
        "# Association Rule Learning: Eclat\n",
        "Equivalence class clustering and bottom up lattice transversal algorithm"
      ]
    },
    {
      "cell_type": "markdown",
      "metadata": {
        "id": "euoNqiDOytm-"
      },
      "source": [
        "--> While the Apriori algorithm works in a horizontal sense imitating the Breadth-First Search of a graph, the ECLAT algorithm works in a vertical manner just like the Depth-First Search of a graph."
      ]
    },
    {
      "cell_type": "markdown",
      "metadata": {
        "id": "tk7_yeSc0GcU"
      },
      "source": [
        "--> works with support of pairs of transaction ids (tidsets).\n",
        "\n",
        "--> Eclat algorithm is used to generate frequent item sets in a database"
      ]
    },
    {
      "cell_type": "markdown",
      "metadata": {
        "id": "RCFDqSzG2cGZ"
      },
      "source": [
        "![picture](https://d1zx6djv3kb1v7.cloudfront.net/wp-content/media/2020/03/Eclat-Algorithm-1-i2tutorials-284x300.png)"
      ]
    },
    {
      "cell_type": "markdown",
      "metadata": {
        "id": "9-V2zWg84J5F"
      },
      "source": [
        "Stores data in a vertical format: (lhs is apriori, rhs is eclat)\n",
        "\n",
        "![picture](https://d1zx6djv3kb1v7.cloudfront.net/wp-content/media/2020/03/Eclat-Algorithm-2-i2tutorials-300x225.jpg)"
      ]
    },
    {
      "cell_type": "markdown",
      "metadata": {
        "id": "5oAJ5NfO3DAH"
      },
      "source": [
        "- Tidsets are used to calculate the value of Support of a dataset and also avoiding the generation of subsets which does not exist in the prefix tree. \n",
        "- In the first call of function, all single items or data are used along with their respective tidsets. \n",
        "- Then the function is called recursively, in each recursive call, each item in tidsets pair is verified and combined with other item in tidsets pairs. \n",
        "- This process is repeated until no candidate item in tidsets pairs can be combined.\n",
        "- each depth we use superposition of transactions in a lexicographic ordering."
      ]
    },
    {
      "cell_type": "markdown",
      "metadata": {
        "id": "P5NbRWe71f6_"
      },
      "source": [
        "## Advantages over Apriori \n",
        "\n",
        "1. Memory Requirements: Since the ECLAT algorithm uses a Depth-First Search approach, it uses less memory than Apriori algorithm.\n",
        "2. Speed: The ECLAT algorithm is typically faster than the Apriori algorithm.\n",
        "3. Number of Computations: The ECLAT algorithm does not involve the repeated scanning of the data to compute the individual support values.\n"
      ]
    },
    {
      "cell_type": "markdown",
      "metadata": {
        "id": "endjLx3_590q"
      },
      "source": [
        "# References:\n",
        "\n",
        "--> General Information\n",
        "- https://www.i2tutorials.com/machine-learning-tutorial/eclat-algorithm/\n",
        "\n",
        "\n",
        "--> Solved problem to understand the working:\n",
        "- https://youtu.be/IwbnylEzp0w\n",
        "\n",
        "\n",
        "--> More depth into prefix tree using graphs and bit vectors\n",
        "- https://youtu.be/ecPEXnZQok0"
      ]
    },
    {
      "cell_type": "markdown",
      "metadata": {
        "id": "ux5EaBfu79n3"
      },
      "source": [
        "# Code"
      ]
    },
    {
      "cell_type": "markdown",
      "metadata": {
        "id": "PxVLvPy-HmTw"
      },
      "source": [
        "Link to dataset: https://drive.google.com/file/d/16wlKvgyHvsXU96rLd-j2WHrN52thrp7-/view?usp=sharing"
      ]
    },
    {
      "cell_type": "code",
      "metadata": {
        "colab": {
          "base_uri": "https://localhost:8080/"
        },
        "id": "FUMGxZg8GcHp",
        "outputId": "584f286e-5d21-407c-b268-6cd02325f66b"
      },
      "source": [
        "from google.colab import drive\n",
        "drive.mount(\"/content/drive\")"
      ],
      "execution_count": 3,
      "outputs": [
        {
          "output_type": "stream",
          "text": [
            "Drive already mounted at /content/drive; to attempt to forcibly remount, call drive.mount(\"/content/drive\", force_remount=True).\n"
          ],
          "name": "stdout"
        }
      ]
    },
    {
      "cell_type": "code",
      "metadata": {
        "colab": {
          "base_uri": "https://localhost:8080/"
        },
        "id": "RPSjx5aeKJJ4",
        "outputId": "f091bc66-92d5-44c1-b9e7-0039eb1911a7"
      },
      "source": [
        "!pip install apyori"
      ],
      "execution_count": 4,
      "outputs": [
        {
          "output_type": "stream",
          "text": [
            "Collecting apyori\n",
            "  Downloading https://files.pythonhosted.org/packages/5e/62/5ffde5c473ea4b033490617ec5caa80d59804875ad3c3c57c0976533a21a/apyori-1.1.2.tar.gz\n",
            "Building wheels for collected packages: apyori\n",
            "  Building wheel for apyori (setup.py) ... \u001b[?25l\u001b[?25hdone\n",
            "  Created wheel for apyori: filename=apyori-1.1.2-cp37-none-any.whl size=5975 sha256=6fdf98c6755b38c42c7ad394245c44582341f8ec0bb7a814b3dad1481da601fd\n",
            "  Stored in directory: /root/.cache/pip/wheels/5d/92/bb/474bbadbc8c0062b9eb168f69982a0443263f8ab1711a8cad0\n",
            "Successfully built apyori\n",
            "Installing collected packages: apyori\n",
            "Successfully installed apyori-1.1.2\n"
          ],
          "name": "stdout"
        }
      ]
    },
    {
      "cell_type": "code",
      "metadata": {
        "id": "22SjaWRHINcR"
      },
      "source": [
        "# importing libraries \n",
        "import numpy as np\n",
        "import matplotlib.pyplot as plt\n",
        "import pandas as pd"
      ],
      "execution_count": 5,
      "outputs": []
    },
    {
      "cell_type": "markdown",
      "metadata": {
        "id": "sh2c7hINLACW"
      },
      "source": [
        "## Data Preprocessing "
      ]
    },
    {
      "cell_type": "code",
      "metadata": {
        "id": "k9v9XjnmJ1gE"
      },
      "source": [
        "#loading the dataset (no header)\n",
        "dataset = pd.read_csv('Market_Basket_Optimisation.csv', header = None)\n",
        "\n",
        "#creating a list of transactions from dataframe\n",
        "transactions = []\n",
        "#print(len(dataset.index))\n",
        "# print(len(dataset.columns))\n",
        "\n",
        "# all elements in list for apyori must be str\n",
        "for i in range(0, len(dataset.index)):\n",
        "  transactions.append([str(dataset.values[i,j]) for j in range(0, len(dataset.columns))])\n",
        "\n"
      ],
      "execution_count": 7,
      "outputs": []
    },
    {
      "cell_type": "markdown",
      "metadata": {
        "id": "dPERpdc5um3l"
      },
      "source": [
        "## Training model on Dataset"
      ]
    },
    {
      "cell_type": "code",
      "metadata": {
        "id": "Os57DzaUNwr5"
      },
      "source": [
        "# assumung we wanted at least 3 transactions per week, minsup = 3*7/7501\n",
        "# rule of thumb is to start with 0.8 and keep dividing by 2 till you get desirable number of rules \n",
        "# lift less than 3 aren't that relevant in most cases\n",
        "# min len and max len = 2 --> (product A-> product B) --> depends on probelme\n",
        "\n",
        "from apyori import apriori\n",
        "rules = apriori(transactions = transactions, min_support = 0.0027, min_confidence = 0.2, min_lift = 3, min_length = 2, max_length = 2)"
      ],
      "execution_count": 8,
      "outputs": []
    },
    {
      "cell_type": "markdown",
      "metadata": {
        "id": "-Dx2Iez3v8Mh"
      },
      "source": [
        "## Visualising Results "
      ]
    },
    {
      "cell_type": "markdown",
      "metadata": {
        "id": "TD764tjvwBcB"
      },
      "source": [
        "## Direct results"
      ]
    },
    {
      "cell_type": "code",
      "metadata": {
        "colab": {
          "base_uri": "https://localhost:8080/"
        },
        "id": "jeKB90gRwFXF",
        "outputId": "a9abd70b-21b2-476b-cbd1-6fc35ca78db9"
      },
      "source": [
        "ec_results = list(rules)\n",
        "ec_results "
      ],
      "execution_count": 9,
      "outputs": [
        {
          "output_type": "execute_result",
          "data": {
            "text/plain": [
              "[RelationRecord(items=frozenset({'chicken', 'extra dark chocolate'}), support=0.0027996267164378083, ordered_statistics=[OrderedStatistic(items_base=frozenset({'extra dark chocolate'}), items_add=frozenset({'chicken'}), confidence=0.23333333333333334, lift=3.8894074074074076)]),\n",
              " RelationRecord(items=frozenset({'chicken', 'light cream'}), support=0.004532728969470737, ordered_statistics=[OrderedStatistic(items_base=frozenset({'light cream'}), items_add=frozenset({'chicken'}), confidence=0.29059829059829057, lift=4.84395061728395)]),\n",
              " RelationRecord(items=frozenset({'mushroom cream sauce', 'escalope'}), support=0.005732568990801226, ordered_statistics=[OrderedStatistic(items_base=frozenset({'mushroom cream sauce'}), items_add=frozenset({'escalope'}), confidence=0.3006993006993007, lift=3.790832696715049)]),\n",
              " RelationRecord(items=frozenset({'escalope', 'pasta'}), support=0.005865884548726837, ordered_statistics=[OrderedStatistic(items_base=frozenset({'pasta'}), items_add=frozenset({'escalope'}), confidence=0.3728813559322034, lift=4.700811850163794)]),\n",
              " RelationRecord(items=frozenset({'fromage blanc', 'honey'}), support=0.003332888948140248, ordered_statistics=[OrderedStatistic(items_base=frozenset({'fromage blanc'}), items_add=frozenset({'honey'}), confidence=0.2450980392156863, lift=5.164270764485569)]),\n",
              " RelationRecord(items=frozenset({'ground beef', 'herb & pepper'}), support=0.015997866951073192, ordered_statistics=[OrderedStatistic(items_base=frozenset({'herb & pepper'}), items_add=frozenset({'ground beef'}), confidence=0.3234501347708895, lift=3.2919938411349285)]),\n",
              " RelationRecord(items=frozenset({'ground beef', 'tomato sauce'}), support=0.005332622317024397, ordered_statistics=[OrderedStatistic(items_base=frozenset({'tomato sauce'}), items_add=frozenset({'ground beef'}), confidence=0.3773584905660377, lift=3.840659481324083)]),\n",
              " RelationRecord(items=frozenset({'olive oil', 'light cream'}), support=0.003199573390214638, ordered_statistics=[OrderedStatistic(items_base=frozenset({'light cream'}), items_add=frozenset({'olive oil'}), confidence=0.20512820512820515, lift=3.1147098515519573)]),\n",
              " RelationRecord(items=frozenset({'olive oil', 'whole wheat pasta'}), support=0.007998933475536596, ordered_statistics=[OrderedStatistic(items_base=frozenset({'whole wheat pasta'}), items_add=frozenset({'olive oil'}), confidence=0.2714932126696833, lift=4.122410097642296)]),\n",
              " RelationRecord(items=frozenset({'shrimp', 'pasta'}), support=0.005065991201173177, ordered_statistics=[OrderedStatistic(items_base=frozenset({'pasta'}), items_add=frozenset({'shrimp'}), confidence=0.3220338983050847, lift=4.506672147735896)])]"
            ]
          },
          "metadata": {
            "tags": []
          },
          "execution_count": 9
        }
      ]
    },
    {
      "cell_type": "markdown",
      "metadata": {
        "id": "o3PHYblDwwsu"
      },
      "source": [
        "## Putting results in a pd frame"
      ]
    },
    {
      "cell_type": "code",
      "metadata": {
        "id": "jK6vYQoVwKvq"
      },
      "source": [
        "def inspect(results):   #conf and support are not needed \n",
        "    lhs         = [tuple(result[2][0][0])[0] for result in results]\n",
        "    rhs         = [tuple(result[2][0][1])[0] for result in results]\n",
        "    supports    = [result[1] for result in results]\n",
        "    # confidences = [result[2][0][2] for result in results]\n",
        "    # lifts       = [result[2][0][3] for result in results]\n",
        "    return list(zip(lhs, rhs, supports))\n",
        "resultsinDataFrame = pd.DataFrame(inspect(ec_results), columns = ['Product A', 'Product B', 'Support'])"
      ],
      "execution_count": 12,
      "outputs": []
    },
    {
      "cell_type": "code",
      "metadata": {
        "colab": {
          "base_uri": "https://localhost:8080/",
          "height": 357
        },
        "id": "cWB4mcZzxCtZ",
        "outputId": "ec0d0bb7-8d4a-4aee-d09c-e9970b4e6c3f"
      },
      "source": [
        "resultsinDataFrame\n"
      ],
      "execution_count": 13,
      "outputs": [
        {
          "output_type": "execute_result",
          "data": {
            "text/html": [
              "<div>\n",
              "<style scoped>\n",
              "    .dataframe tbody tr th:only-of-type {\n",
              "        vertical-align: middle;\n",
              "    }\n",
              "\n",
              "    .dataframe tbody tr th {\n",
              "        vertical-align: top;\n",
              "    }\n",
              "\n",
              "    .dataframe thead th {\n",
              "        text-align: right;\n",
              "    }\n",
              "</style>\n",
              "<table border=\"1\" class=\"dataframe\">\n",
              "  <thead>\n",
              "    <tr style=\"text-align: right;\">\n",
              "      <th></th>\n",
              "      <th>Product A</th>\n",
              "      <th>Product B</th>\n",
              "      <th>Support</th>\n",
              "    </tr>\n",
              "  </thead>\n",
              "  <tbody>\n",
              "    <tr>\n",
              "      <th>0</th>\n",
              "      <td>extra dark chocolate</td>\n",
              "      <td>chicken</td>\n",
              "      <td>0.002800</td>\n",
              "    </tr>\n",
              "    <tr>\n",
              "      <th>1</th>\n",
              "      <td>light cream</td>\n",
              "      <td>chicken</td>\n",
              "      <td>0.004533</td>\n",
              "    </tr>\n",
              "    <tr>\n",
              "      <th>2</th>\n",
              "      <td>mushroom cream sauce</td>\n",
              "      <td>escalope</td>\n",
              "      <td>0.005733</td>\n",
              "    </tr>\n",
              "    <tr>\n",
              "      <th>3</th>\n",
              "      <td>pasta</td>\n",
              "      <td>escalope</td>\n",
              "      <td>0.005866</td>\n",
              "    </tr>\n",
              "    <tr>\n",
              "      <th>4</th>\n",
              "      <td>fromage blanc</td>\n",
              "      <td>honey</td>\n",
              "      <td>0.003333</td>\n",
              "    </tr>\n",
              "    <tr>\n",
              "      <th>5</th>\n",
              "      <td>herb &amp; pepper</td>\n",
              "      <td>ground beef</td>\n",
              "      <td>0.015998</td>\n",
              "    </tr>\n",
              "    <tr>\n",
              "      <th>6</th>\n",
              "      <td>tomato sauce</td>\n",
              "      <td>ground beef</td>\n",
              "      <td>0.005333</td>\n",
              "    </tr>\n",
              "    <tr>\n",
              "      <th>7</th>\n",
              "      <td>light cream</td>\n",
              "      <td>olive oil</td>\n",
              "      <td>0.003200</td>\n",
              "    </tr>\n",
              "    <tr>\n",
              "      <th>8</th>\n",
              "      <td>whole wheat pasta</td>\n",
              "      <td>olive oil</td>\n",
              "      <td>0.007999</td>\n",
              "    </tr>\n",
              "    <tr>\n",
              "      <th>9</th>\n",
              "      <td>pasta</td>\n",
              "      <td>shrimp</td>\n",
              "      <td>0.005066</td>\n",
              "    </tr>\n",
              "  </tbody>\n",
              "</table>\n",
              "</div>"
            ],
            "text/plain": [
              "              Product A    Product B   Support\n",
              "0  extra dark chocolate      chicken  0.002800\n",
              "1           light cream      chicken  0.004533\n",
              "2  mushroom cream sauce     escalope  0.005733\n",
              "3                 pasta     escalope  0.005866\n",
              "4         fromage blanc        honey  0.003333\n",
              "5         herb & pepper  ground beef  0.015998\n",
              "6          tomato sauce  ground beef  0.005333\n",
              "7           light cream    olive oil  0.003200\n",
              "8     whole wheat pasta    olive oil  0.007999\n",
              "9                 pasta       shrimp  0.005066"
            ]
          },
          "metadata": {
            "tags": []
          },
          "execution_count": 13
        }
      ]
    },
    {
      "cell_type": "markdown",
      "metadata": {
        "id": "63_Fn53Fxke-"
      },
      "source": [
        "## Sorted Final Results"
      ]
    },
    {
      "cell_type": "code",
      "metadata": {
        "colab": {
          "base_uri": "https://localhost:8080/",
          "height": 357
        },
        "id": "cxRd90t5xJrh",
        "outputId": "a06ac93d-8e5d-4451-b14e-f9dba914e14b"
      },
      "source": [
        "\n",
        "resultsinDataFrame.nlargest(10, \"Support\")"
      ],
      "execution_count": 14,
      "outputs": [
        {
          "output_type": "execute_result",
          "data": {
            "text/html": [
              "<div>\n",
              "<style scoped>\n",
              "    .dataframe tbody tr th:only-of-type {\n",
              "        vertical-align: middle;\n",
              "    }\n",
              "\n",
              "    .dataframe tbody tr th {\n",
              "        vertical-align: top;\n",
              "    }\n",
              "\n",
              "    .dataframe thead th {\n",
              "        text-align: right;\n",
              "    }\n",
              "</style>\n",
              "<table border=\"1\" class=\"dataframe\">\n",
              "  <thead>\n",
              "    <tr style=\"text-align: right;\">\n",
              "      <th></th>\n",
              "      <th>Product A</th>\n",
              "      <th>Product B</th>\n",
              "      <th>Support</th>\n",
              "    </tr>\n",
              "  </thead>\n",
              "  <tbody>\n",
              "    <tr>\n",
              "      <th>5</th>\n",
              "      <td>herb &amp; pepper</td>\n",
              "      <td>ground beef</td>\n",
              "      <td>0.015998</td>\n",
              "    </tr>\n",
              "    <tr>\n",
              "      <th>8</th>\n",
              "      <td>whole wheat pasta</td>\n",
              "      <td>olive oil</td>\n",
              "      <td>0.007999</td>\n",
              "    </tr>\n",
              "    <tr>\n",
              "      <th>3</th>\n",
              "      <td>pasta</td>\n",
              "      <td>escalope</td>\n",
              "      <td>0.005866</td>\n",
              "    </tr>\n",
              "    <tr>\n",
              "      <th>2</th>\n",
              "      <td>mushroom cream sauce</td>\n",
              "      <td>escalope</td>\n",
              "      <td>0.005733</td>\n",
              "    </tr>\n",
              "    <tr>\n",
              "      <th>6</th>\n",
              "      <td>tomato sauce</td>\n",
              "      <td>ground beef</td>\n",
              "      <td>0.005333</td>\n",
              "    </tr>\n",
              "    <tr>\n",
              "      <th>9</th>\n",
              "      <td>pasta</td>\n",
              "      <td>shrimp</td>\n",
              "      <td>0.005066</td>\n",
              "    </tr>\n",
              "    <tr>\n",
              "      <th>1</th>\n",
              "      <td>light cream</td>\n",
              "      <td>chicken</td>\n",
              "      <td>0.004533</td>\n",
              "    </tr>\n",
              "    <tr>\n",
              "      <th>4</th>\n",
              "      <td>fromage blanc</td>\n",
              "      <td>honey</td>\n",
              "      <td>0.003333</td>\n",
              "    </tr>\n",
              "    <tr>\n",
              "      <th>7</th>\n",
              "      <td>light cream</td>\n",
              "      <td>olive oil</td>\n",
              "      <td>0.003200</td>\n",
              "    </tr>\n",
              "    <tr>\n",
              "      <th>0</th>\n",
              "      <td>extra dark chocolate</td>\n",
              "      <td>chicken</td>\n",
              "      <td>0.002800</td>\n",
              "    </tr>\n",
              "  </tbody>\n",
              "</table>\n",
              "</div>"
            ],
            "text/plain": [
              "              Product A    Product B   Support\n",
              "5         herb & pepper  ground beef  0.015998\n",
              "8     whole wheat pasta    olive oil  0.007999\n",
              "3                 pasta     escalope  0.005866\n",
              "2  mushroom cream sauce     escalope  0.005733\n",
              "6          tomato sauce  ground beef  0.005333\n",
              "9                 pasta       shrimp  0.005066\n",
              "1           light cream      chicken  0.004533\n",
              "4         fromage blanc        honey  0.003333\n",
              "7           light cream    olive oil  0.003200\n",
              "0  extra dark chocolate      chicken  0.002800"
            ]
          },
          "metadata": {
            "tags": []
          },
          "execution_count": 14
        }
      ]
    },
    {
      "cell_type": "code",
      "metadata": {
        "id": "bS_nakr49f3a"
      },
      "source": [
        ""
      ],
      "execution_count": null,
      "outputs": []
    }
  ]
}